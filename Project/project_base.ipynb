{
 "cells": [
  {
   "cell_type": "code",
   "execution_count": 15,
   "metadata": {},
   "outputs": [
    {
     "name": "stdout",
     "output_type": "stream",
     "text": [
      "Requirement already satisfied: kagglehub in d:\\융시공\\3학년 2학기\\ajou_socialnetworkanalysis\\project\\lib\\site-packages (0.3.4)\n",
      "Requirement already satisfied: packaging in d:\\융시공\\3학년 2학기\\ajou_socialnetworkanalysis\\project\\lib\\site-packages (from kagglehub) (24.2)\n",
      "Requirement already satisfied: tqdm in d:\\융시공\\3학년 2학기\\ajou_socialnetworkanalysis\\project\\lib\\site-packages (from kagglehub) (4.67.0)\n",
      "Requirement already satisfied: requests in d:\\융시공\\3학년 2학기\\ajou_socialnetworkanalysis\\project\\lib\\site-packages (from kagglehub) (2.32.3)\n",
      "Requirement already satisfied: idna<4,>=2.5 in d:\\융시공\\3학년 2학기\\ajou_socialnetworkanalysis\\project\\lib\\site-packages (from requests->kagglehub) (3.10)\n",
      "Requirement already satisfied: urllib3<3,>=1.21.1 in d:\\융시공\\3학년 2학기\\ajou_socialnetworkanalysis\\project\\lib\\site-packages (from requests->kagglehub) (2.2.3)\n",
      "Requirement already satisfied: certifi>=2017.4.17 in d:\\융시공\\3학년 2학기\\ajou_socialnetworkanalysis\\project\\lib\\site-packages (from requests->kagglehub) (2024.8.30)\n",
      "Requirement already satisfied: charset-normalizer<4,>=2 in d:\\융시공\\3학년 2학기\\ajou_socialnetworkanalysis\\project\\lib\\site-packages (from requests->kagglehub) (3.4.0)\n",
      "Requirement already satisfied: colorama in d:\\융시공\\3학년 2학기\\ajou_socialnetworkanalysis\\project\\lib\\site-packages (from tqdm->kagglehub) (0.4.6)\n"
     ]
    },
    {
     "name": "stderr",
     "output_type": "stream",
     "text": [
      "WARNING: You are using pip version 21.2.4; however, version 24.3.1 is available.\n",
      "You should consider upgrading via the 'D:\\융시공\\3학년 2학기\\Ajou_SocialNetworkAnalysis\\project\\Scripts\\python.exe -m pip install --upgrade pip' command.\n"
     ]
    },
    {
     "name": "stdout",
     "output_type": "stream",
     "text": [
      "Collecting numpy\n",
      "  Downloading numpy-2.1.3-cp310-cp310-win_amd64.whl (12.9 MB)\n",
      "Installing collected packages: numpy\n",
      "Successfully installed numpy-2.1.3\n"
     ]
    },
    {
     "name": "stderr",
     "output_type": "stream",
     "text": [
      "WARNING: You are using pip version 21.2.4; however, version 24.3.1 is available.\n",
      "You should consider upgrading via the 'D:\\융시공\\3학년 2학기\\Ajou_SocialNetworkAnalysis\\project\\Scripts\\python.exe -m pip install --upgrade pip' command.\n"
     ]
    }
   ],
   "source": [
    "!pip install kagglehub\n",
    "!pip install numpy"
   ]
  },
  {
   "cell_type": "code",
   "execution_count": 2,
   "metadata": {},
   "outputs": [
    {
     "name": "stderr",
     "output_type": "stream",
     "text": [
      "d:\\융시공\\3학년 2학기\\Ajou_SocialNetworkAnalysis\\Project\\lib\\site-packages\\tqdm\\auto.py:21: TqdmWarning: IProgress not found. Please update jupyter and ipywidgets. See https://ipywidgets.readthedocs.io/en/stable/user_install.html\n",
      "  from .autonotebook import tqdm as notebook_tqdm\n"
     ]
    }
   ],
   "source": [
    "import shutil\n",
    "import os\n",
    "import kagglehub\n",
    "\n",
    "import numpy as np\n",
    "import pandas as pd\n",
    "import matplotlib.pyplot as plt\n",
    "import tqdm"
   ]
  },
  {
   "cell_type": "code",
   "execution_count": 8,
   "metadata": {},
   "outputs": [
    {
     "name": "stdout",
     "output_type": "stream",
     "text": [
      "Path to dataset files: C:\\Users\\jaeseokk\\.cache\\kagglehub\\datasets\\deepshah16\\song-lyrics-dataset\\versions\\5\n"
     ]
    }
   ],
   "source": [
    "# Download latest version\n",
    "path = kagglehub.dataset_download(\"deepshah16/song-lyrics-dataset\")\n",
    "\n",
    "print(\"Path to dataset files:\", path)"
   ]
  },
  {
   "cell_type": "code",
   "execution_count": 3,
   "metadata": {},
   "outputs": [
    {
     "name": "stdout",
     "output_type": "stream",
     "text": [
      "Current Path: d:\\융시공\\3학년 2학기\\Ajou_SocialNetworkAnalysis\\Project\n"
     ]
    },
    {
     "ename": "NameError",
     "evalue": "name 'path' is not defined",
     "output_type": "error",
     "traceback": [
      "\u001b[1;31m---------------------------------------------------------------------------\u001b[0m",
      "\u001b[1;31mNameError\u001b[0m                                 Traceback (most recent call last)",
      "Cell \u001b[1;32mIn[3], line 5\u001b[0m\n\u001b[0;32m      2\u001b[0m \u001b[38;5;28mprint\u001b[39m(\u001b[38;5;124m\"\u001b[39m\u001b[38;5;124mCurrent Path:\u001b[39m\u001b[38;5;124m\"\u001b[39m, current_directory)\n\u001b[0;32m      4\u001b[0m destination_path \u001b[38;5;241m=\u001b[39m os\u001b[38;5;241m.\u001b[39mpath\u001b[38;5;241m.\u001b[39mjoin(current_directory, \u001b[38;5;124m\"\u001b[39m\u001b[38;5;124msong-lyrics-dataset\u001b[39m\u001b[38;5;124m\"\u001b[39m)\n\u001b[1;32m----> 5\u001b[0m shutil\u001b[38;5;241m.\u001b[39mcopytree(\u001b[43mpath\u001b[49m, destination_path, dirs_exist_ok\u001b[38;5;241m=\u001b[39m\u001b[38;5;28;01mTrue\u001b[39;00m)\n\u001b[0;32m      7\u001b[0m \u001b[38;5;28mprint\u001b[39m(\u001b[38;5;124m\"\u001b[39m\u001b[38;5;124mDataset directory has been copied to:\u001b[39m\u001b[38;5;124m\"\u001b[39m, destination_path)\n",
      "\u001b[1;31mNameError\u001b[0m: name 'path' is not defined"
     ]
    }
   ],
   "source": [
    "current_directory = os.getcwd()\n",
    "print(\"Current Path:\", current_directory)\n",
    "\n",
    "destination_path = os.path.join(current_directory, \"song-lyrics-dataset\")\n",
    "shutil.copytree(path, destination_path, dirs_exist_ok=True)\n",
    "\n",
    "print(\"Dataset directory has been copied to:\", destination_path)"
   ]
  },
  {
   "cell_type": "markdown",
   "metadata": {},
   "source": [
    "Lyrics datasets have been saved in `song-lyrics-dataset/csv`."
   ]
  },
  {
   "cell_type": "code",
   "execution_count": 4,
   "metadata": {},
   "outputs": [
    {
     "name": "stdout",
     "output_type": "stream",
     "text": [
      "d:\\융시공\\3학년 2학기\\Ajou_SocialNetworkAnalysis\\Project\\song-lyrics-dataset\\csv\\ArianaGrande.csv\n",
      "d:\\융시공\\3학년 2학기\\Ajou_SocialNetworkAnalysis\\Project\\song-lyrics-dataset\\csv\\Beyonce.csv\n",
      "d:\\융시공\\3학년 2학기\\Ajou_SocialNetworkAnalysis\\Project\\song-lyrics-dataset\\csv\\BillieEilish.csv\n",
      "d:\\융시공\\3학년 2학기\\Ajou_SocialNetworkAnalysis\\Project\\song-lyrics-dataset\\csv\\BTS.csv\n",
      "d:\\융시공\\3학년 2학기\\Ajou_SocialNetworkAnalysis\\Project\\song-lyrics-dataset\\csv\\CardiB.csv\n",
      "d:\\융시공\\3학년 2학기\\Ajou_SocialNetworkAnalysis\\Project\\song-lyrics-dataset\\csv\\CharliePuth.csv\n",
      "d:\\융시공\\3학년 2학기\\Ajou_SocialNetworkAnalysis\\Project\\song-lyrics-dataset\\csv\\ColdPlay.csv\n",
      "d:\\융시공\\3학년 2학기\\Ajou_SocialNetworkAnalysis\\Project\\song-lyrics-dataset\\csv\\Drake.csv\n",
      "d:\\융시공\\3학년 2학기\\Ajou_SocialNetworkAnalysis\\Project\\song-lyrics-dataset\\csv\\DuaLipa.csv\n",
      "d:\\융시공\\3학년 2학기\\Ajou_SocialNetworkAnalysis\\Project\\song-lyrics-dataset\\csv\\EdSheeran.csv\n",
      "d:\\융시공\\3학년 2학기\\Ajou_SocialNetworkAnalysis\\Project\\song-lyrics-dataset\\csv\\Eminem.csv\n",
      "d:\\융시공\\3학년 2학기\\Ajou_SocialNetworkAnalysis\\Project\\song-lyrics-dataset\\csv\\JustinBieber.csv\n",
      "d:\\융시공\\3학년 2학기\\Ajou_SocialNetworkAnalysis\\Project\\song-lyrics-dataset\\csv\\KatyPerry.csv\n",
      "d:\\융시공\\3학년 2학기\\Ajou_SocialNetworkAnalysis\\Project\\song-lyrics-dataset\\csv\\Khalid.csv\n",
      "d:\\융시공\\3학년 2학기\\Ajou_SocialNetworkAnalysis\\Project\\song-lyrics-dataset\\csv\\LadyGaga.csv\n",
      "d:\\융시공\\3학년 2학기\\Ajou_SocialNetworkAnalysis\\Project\\song-lyrics-dataset\\csv\\Maroon5.csv\n",
      "d:\\융시공\\3학년 2학기\\Ajou_SocialNetworkAnalysis\\Project\\song-lyrics-dataset\\csv\\NickiMinaj.csv\n",
      "d:\\융시공\\3학년 2학기\\Ajou_SocialNetworkAnalysis\\Project\\song-lyrics-dataset\\csv\\PostMalone.csv\n",
      "d:\\융시공\\3학년 2학기\\Ajou_SocialNetworkAnalysis\\Project\\song-lyrics-dataset\\csv\\Rihanna.csv\n",
      "d:\\융시공\\3학년 2학기\\Ajou_SocialNetworkAnalysis\\Project\\song-lyrics-dataset\\csv\\SelenaGomez.csv\n",
      "d:\\융시공\\3학년 2학기\\Ajou_SocialNetworkAnalysis\\Project\\song-lyrics-dataset\\csv\\TaylorSwift.csv\n"
     ]
    },
    {
     "data": {
      "text/html": [
       "<div>\n",
       "<style scoped>\n",
       "    .dataframe tbody tr th:only-of-type {\n",
       "        vertical-align: middle;\n",
       "    }\n",
       "\n",
       "    .dataframe tbody tr th {\n",
       "        vertical-align: top;\n",
       "    }\n",
       "\n",
       "    .dataframe thead th {\n",
       "        text-align: right;\n",
       "    }\n",
       "</style>\n",
       "<table border=\"1\" class=\"dataframe\">\n",
       "  <thead>\n",
       "    <tr style=\"text-align: right;\">\n",
       "      <th></th>\n",
       "      <th>Unnamed: 0</th>\n",
       "      <th>Artist</th>\n",
       "      <th>Title</th>\n",
       "      <th>Album</th>\n",
       "      <th>Year</th>\n",
       "      <th>Date</th>\n",
       "      <th>Lyric</th>\n",
       "    </tr>\n",
       "  </thead>\n",
       "  <tbody>\n",
       "    <tr>\n",
       "      <th>0</th>\n",
       "      <td>0</td>\n",
       "      <td>Taylor Swift</td>\n",
       "      <td>​cardigan</td>\n",
       "      <td>folklore</td>\n",
       "      <td>2020.0</td>\n",
       "      <td>2020-07-24</td>\n",
       "      <td>vintage tee brand new phone high heels on cobb...</td>\n",
       "    </tr>\n",
       "    <tr>\n",
       "      <th>1</th>\n",
       "      <td>1</td>\n",
       "      <td>Taylor Swift</td>\n",
       "      <td>​exile</td>\n",
       "      <td>folklore</td>\n",
       "      <td>2020.0</td>\n",
       "      <td>2020-07-24</td>\n",
       "      <td>justin vernon i can see you standing honey wit...</td>\n",
       "    </tr>\n",
       "    <tr>\n",
       "      <th>2</th>\n",
       "      <td>2</td>\n",
       "      <td>Taylor Swift</td>\n",
       "      <td>Lover</td>\n",
       "      <td>Lover</td>\n",
       "      <td>2019.0</td>\n",
       "      <td>2019-08-16</td>\n",
       "      <td>we could leave the christmas lights up 'til ja...</td>\n",
       "    </tr>\n",
       "    <tr>\n",
       "      <th>3</th>\n",
       "      <td>3</td>\n",
       "      <td>Taylor Swift</td>\n",
       "      <td>​the 1</td>\n",
       "      <td>folklore</td>\n",
       "      <td>2020.0</td>\n",
       "      <td>2020-07-24</td>\n",
       "      <td>i'm doing good i'm on some new shit been sayin...</td>\n",
       "    </tr>\n",
       "    <tr>\n",
       "      <th>4</th>\n",
       "      <td>4</td>\n",
       "      <td>Taylor Swift</td>\n",
       "      <td>Look What You Made Me Do</td>\n",
       "      <td>reputation</td>\n",
       "      <td>2017.0</td>\n",
       "      <td>2017-08-25</td>\n",
       "      <td>i don't like your little games don't like your...</td>\n",
       "    </tr>\n",
       "  </tbody>\n",
       "</table>\n",
       "</div>"
      ],
      "text/plain": [
       "   Unnamed: 0        Artist                     Title       Album    Year  \\\n",
       "0           0  Taylor Swift                 ​cardigan    folklore  2020.0   \n",
       "1           1  Taylor Swift                    ​exile    folklore  2020.0   \n",
       "2           2  Taylor Swift                     Lover       Lover  2019.0   \n",
       "3           3  Taylor Swift                    ​the 1    folklore  2020.0   \n",
       "4           4  Taylor Swift  Look What You Made Me Do  reputation  2017.0   \n",
       "\n",
       "         Date                                              Lyric  \n",
       "0  2020-07-24  vintage tee brand new phone high heels on cobb...  \n",
       "1  2020-07-24  justin vernon i can see you standing honey wit...  \n",
       "2  2019-08-16  we could leave the christmas lights up 'til ja...  \n",
       "3  2020-07-24  i'm doing good i'm on some new shit been sayin...  \n",
       "4  2017-08-25  i don't like your little games don't like your...  "
      ]
     },
     "execution_count": 4,
     "metadata": {},
     "output_type": "execute_result"
    }
   ],
   "source": [
    "csv_path = os.path.join(current_directory, \"song-lyrics-dataset\", \"csv\")\n",
    "\n",
    "artists = os.listdir(csv_path)\n",
    "for artist in artists:\n",
    "    lyrics_data = os.path.join(csv_path,artist)\n",
    "    print(lyrics_data)\n",
    "    df1 = pd.read_csv(lyrics_data)\n",
    "\n",
    "# 다 합치는 코드 작성해야함\n",
    "    \n",
    "df1.head()\n"
   ]
  },
  {
   "cell_type": "code",
   "execution_count": 6,
   "metadata": {},
   "outputs": [
    {
     "data": {
      "text/plain": [
       "['ArianaGrande.csv',\n",
       " 'Beyonce.csv',\n",
       " 'BillieEilish.csv',\n",
       " 'BTS.csv',\n",
       " 'CardiB.csv',\n",
       " 'CharliePuth.csv',\n",
       " 'ColdPlay.csv',\n",
       " 'Drake.csv',\n",
       " 'DuaLipa.csv',\n",
       " 'EdSheeran.csv',\n",
       " 'Eminem.csv',\n",
       " 'JustinBieber.csv',\n",
       " 'KatyPerry.csv',\n",
       " 'Khalid.csv',\n",
       " 'LadyGaga.csv',\n",
       " 'Maroon5.csv',\n",
       " 'NickiMinaj.csv',\n",
       " 'PostMalone.csv',\n",
       " 'Rihanna.csv',\n",
       " 'SelenaGomez.csv',\n",
       " 'TaylorSwift.csv']"
      ]
     },
     "execution_count": 6,
     "metadata": {},
     "output_type": "execute_result"
    }
   ],
   "source": [
    "artists"
   ]
  },
  {
   "cell_type": "code",
   "execution_count": null,
   "metadata": {},
   "outputs": [],
   "source": []
  }
 ],
 "metadata": {
  "kernelspec": {
   "display_name": "Project",
   "language": "python",
   "name": "python3"
  },
  "language_info": {
   "codemirror_mode": {
    "name": "ipython",
    "version": 3
   },
   "file_extension": ".py",
   "mimetype": "text/x-python",
   "name": "python",
   "nbconvert_exporter": "python",
   "pygments_lexer": "ipython3",
   "version": "3.10.1"
  }
 },
 "nbformat": 4,
 "nbformat_minor": 2
}
